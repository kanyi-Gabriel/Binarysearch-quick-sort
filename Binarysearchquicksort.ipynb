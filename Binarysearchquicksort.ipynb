{
 "cells": [
  {
   "cell_type": "markdown",
   "id": "53b1b2b6-d130-49dd-95b3-c41c3e8319ee",
   "metadata": {},
   "source": [
    "## Data Structures and Alorithms\n",
    "\n",
    "Perform iterative binary search to return the index of values in an array. \n",
    "\n",
    "The array used is unsorted. Since binary search only work with sorted array, we sort the array using quick sort algorithm before applying the binary search function.  "
   ]
  },
  {
   "cell_type": "code",
   "execution_count": 14,
   "id": "b692d1ac-eacd-471e-9580-18e2039cc45c",
   "metadata": {},
   "outputs": [
    {
     "name": "stdout",
     "output_type": "stream",
     "text": [
      "Sorted array: [6, 22, 34, 43, 64, 76, 89, 90, 100, 125, 150]\n",
      "Target 56 not in the array\n",
      "Target 90 in index 7\n",
      "Target 43 in index 3\n"
     ]
    }
   ],
   "source": [
    "def binary_search_iterative(arr, target):\n",
    "    \"\"\"\n",
    "    Performs iterative binary search on sorted array to find the index of the target\n",
    "    Returns -1 when the value is not in the array\n",
    "\n",
    "    Parameters\n",
    "    arr: Array to iterate through and find the the index of specified values\n",
    "    target: Values to determine index in the array\n",
    "    \"\"\"\n",
    "    \n",
    "    # Define the index of leftmost and rightmost values\n",
    "    left = 0\n",
    "    right = len(arr) - 1\n",
    "\n",
    "    # Cater fo all elements i the list\n",
    "    while left <= right:\n",
    "        # Set the midpoint index\n",
    "        mid = (left + right) // 2\n",
    "\n",
    "        # Compare the current value array with target\n",
    "        if arr[mid] == target:\n",
    "            return mid\n",
    "\n",
    "        elif  arr[mid] < target:\n",
    "            left = mid + 1\n",
    "\n",
    "        else: \n",
    "            right = mid - 1\n",
    "            \n",
    "    return -1\n",
    "        \n",
    "def quicksort(arr, low, high):\n",
    "    \"\"\"\n",
    "    Performs quicksort algorithm to sort an array\n",
    "\n",
    "    Parameters\n",
    "    arr: The array or the list to sort\n",
    "    low: index of the leftmost element in the array\n",
    "    high: index of the righmost element in the array\n",
    "    \"\"\"\n",
    "    def partition(low, high):\n",
    "        # set the pivot index as the rightmost value\n",
    "        pivot = arr[high]\n",
    "        # index of smaller element is set to -1\n",
    "        i = low -1\n",
    "\n",
    "        for j in range(low, high):\n",
    "            if arr[j] <= pivot:\n",
    "                i += 1\n",
    "                arr[i], arr[j] = arr[j], arr[i]\n",
    "                \n",
    "        arr[i + 1], arr[high] = arr[high], arr[i + 1]\n",
    "\n",
    "        return i + 1\n",
    "\n",
    "    if low < high:\n",
    "        # To get the final position\n",
    "        pi = partition(low, high)\n",
    "        # sepparately sort the elements before and after the partition\n",
    "        quicksort(arr, low, pi-1)\n",
    "        quicksort(arr, pi + 1, high)\n",
    "        \n",
    "        return arr\n",
    "        \n",
    "arr = [64, 22, 76, 90, 100, 34, 125, 6, 89, 43, 150]\n",
    "n = len(arr)\n",
    "sorted_array = quicksort(arr, 0 , n-1)\n",
    "print(f\"Sorted array: {sorted_array}\")\n",
    "\n",
    "def main():\n",
    "    # To set th target values o iterate thogh and find their undex\n",
    "    targets = [56, 90, 43]\n",
    "\n",
    "    for target in targets:\n",
    "        result = binary_search_iterative(sorted_array, target)\n",
    "\n",
    "        # To print the index of the target\n",
    "        if result != -1:\n",
    "            print(f\"Target {target} in index {result}\")\n",
    "        else:\n",
    "            print(f\"Target {target} not in the array\")\n",
    "\n",
    "if __name__ == \"__main__\":\n",
    "    main()"
   ]
  },
  {
   "cell_type": "code",
   "execution_count": null,
   "id": "818aa05d-bf04-4369-b7e7-6a5041397996",
   "metadata": {},
   "outputs": [],
   "source": []
  }
 ],
 "metadata": {
  "kernelspec": {
   "display_name": "Python 3 (ipykernel)",
   "language": "python",
   "name": "python3"
  },
  "language_info": {
   "codemirror_mode": {
    "name": "ipython",
    "version": 3
   },
   "file_extension": ".py",
   "mimetype": "text/x-python",
   "name": "python",
   "nbconvert_exporter": "python",
   "pygments_lexer": "ipython3",
   "version": "3.10.13"
  }
 },
 "nbformat": 4,
 "nbformat_minor": 5
}
